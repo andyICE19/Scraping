{
 "cells": [
  {
   "cell_type": "code",
   "execution_count": 11,
   "metadata": {
    "ExecuteTime": {
     "end_time": "2019-11-27T14:49:48.816186Z",
     "start_time": "2019-11-27T14:49:48.812988Z"
    }
   },
   "outputs": [],
   "source": [
    "from selenium import webdriver\n",
    "from selenium.webdriver.support.ui import Select\n",
    "from selenium.webdriver.common.keys import Keys\n",
    "from time import sleep\n",
    "import numpy as np\n",
    "import pandas as pd\n",
    "import os\n",
    "from selenium.common.exceptions import NoSuchElementException"
   ]
  },
  {
   "cell_type": "markdown",
   "metadata": {},
   "source": [
    "# Load Selenium Chrome Webdriver"
   ]
  },
  {
   "cell_type": "code",
   "execution_count": 12,
   "metadata": {
    "ExecuteTime": {
     "end_time": "2019-11-27T14:49:50.620958Z",
     "start_time": "2019-11-27T14:49:48.818756Z"
    }
   },
   "outputs": [],
   "source": [
    "browser = webdriver.Chrome(executable_path=os.getcwd() + \"/chromedriver\")"
   ]
  },
  {
   "cell_type": "code",
   "execution_count": 13,
   "metadata": {
    "ExecuteTime": {
     "end_time": "2019-11-27T14:49:50.630440Z",
     "start_time": "2019-11-27T14:49:50.625239Z"
    }
   },
   "outputs": [],
   "source": [
    "URL = \"https://www.currys.co.uk/\""
   ]
  },
  {
   "cell_type": "code",
   "execution_count": 14,
   "metadata": {
    "ExecuteTime": {
     "end_time": "2019-11-27T14:49:53.234434Z",
     "start_time": "2019-11-27T14:49:50.634535Z"
    }
   },
   "outputs": [],
   "source": [
    "browser.get(URL)"
   ]
  },
  {
   "cell_type": "code",
   "execution_count": 15,
   "metadata": {
    "ExecuteTime": {
     "end_time": "2019-11-27T14:49:56.946204Z",
     "start_time": "2019-11-27T14:49:53.236347Z"
    }
   },
   "outputs": [],
   "source": [
    "# Find out the search box by id\n",
    "search_input = browser.find_element_by_id(\"search\")\n",
    "search_input.send_keys(\"printer\")\n",
    "# wait for 0.5, demonstration purposes\n",
    "sleep(0.5)\n",
    "\n",
    "# Find out the search button by xpath\n",
    "search_btn = browser.find_element_by_xpath('//*[@id=\"searchForm\"]/fieldset/div[2]/div/button')\n",
    "search_btn.click()\n",
    "# wait for 0.5, demonstration purposes\n",
    "sleep(0.5)"
   ]
  },
  {
   "cell_type": "markdown",
   "metadata": {},
   "source": [
    "# Collect Product information"
   ]
  },
  {
   "cell_type": "code",
   "execution_count": 16,
   "metadata": {
    "ExecuteTime": {
     "end_time": "2019-11-27T14:49:57.026860Z",
     "start_time": "2019-11-27T14:49:56.947876Z"
    }
   },
   "outputs": [
    {
     "data": {
      "text/plain": [
       "20"
      ]
     },
     "execution_count": 16,
     "metadata": {},
     "output_type": "execute_result"
    }
   ],
   "source": [
    "# Find the block that contains all products\n",
    "product_block = browser.find_element_by_class_name(\"col12.resultList\")\n",
    "\n",
    "# Find all product blocks under this product block\n",
    "all_product_blocks = product_block.find_elements_by_tag_name('article')\n",
    "len(all_product_blocks)\n"
   ]
  },
  {
   "cell_type": "code",
   "execution_count": 17,
   "metadata": {
    "ExecuteTime": {
     "end_time": "2019-11-27T14:49:58.815946Z",
     "start_time": "2019-11-27T14:49:57.029479Z"
    }
   },
   "outputs": [],
   "source": [
    "product_list = []\n",
    "\n",
    "for p in all_product_blocks:\n",
    "    \n",
    "    # find the header\n",
    "    h = p.find_element_by_tag_name(\"header\")\n",
    "    # find the a tag\n",
    "    a = h.find_element_by_tag_name(\"a\")\n",
    "    # Find the link\n",
    "    link = a.get_attribute(\"href\")\n",
    "    \n",
    "    spans = a.find_elements_by_tag_name(\"span\")\n",
    "    \n",
    "    # Get brand and product name\n",
    "    brand_name = spans[0].text\n",
    "    product_name = spans[1].text\n",
    "    \n",
    "    # Get Price\n",
    "    price = p.find_element_by_class_name(\"price\").text\n",
    "#     print(price)\n",
    "    \n",
    "    # Get ratings\n",
    "    try:\n",
    "        rating_element = p.find_element_by_class_name(\"reevoo-score\").get_attribute(\"class\")\n",
    "        score = float(rating_element.split('-')[-1]) / 2\n",
    "#         print(score)\n",
    "    \n",
    "    except NoSuchElementException:  #spelling error making this code not work as expected  \n",
    "        score = ''\n",
    "        \n",
    "\n",
    "    product_list.append([brand_name, product_name, link, price, score])\n",
    "\n",
    "\n",
    "    "
   ]
  },
  {
   "cell_type": "markdown",
   "metadata": {},
   "source": [
    "# Create a dataframe to store data"
   ]
  },
  {
   "cell_type": "code",
   "execution_count": 18,
   "metadata": {
    "ExecuteTime": {
     "end_time": "2019-11-27T14:49:58.822121Z",
     "start_time": "2019-11-27T14:49:58.817403Z"
    }
   },
   "outputs": [],
   "source": [
    "column_name = [\"brand\", \"product\", \"link\", \"price\", \"score\"]\n",
    "\n",
    "df = pd.DataFrame(product_list, columns=column_name)"
   ]
  },
  {
   "cell_type": "code",
   "execution_count": 19,
   "metadata": {
    "ExecuteTime": {
     "end_time": "2019-11-27T14:49:58.836880Z",
     "start_time": "2019-11-27T14:49:58.824173Z"
    }
   },
   "outputs": [
    {
     "data": {
      "text/html": [
       "<div>\n",
       "<style scoped>\n",
       "    .dataframe tbody tr th:only-of-type {\n",
       "        vertical-align: middle;\n",
       "    }\n",
       "\n",
       "    .dataframe tbody tr th {\n",
       "        vertical-align: top;\n",
       "    }\n",
       "\n",
       "    .dataframe thead th {\n",
       "        text-align: right;\n",
       "    }\n",
       "</style>\n",
       "<table border=\"1\" class=\"dataframe\">\n",
       "  <thead>\n",
       "    <tr style=\"text-align: right;\">\n",
       "      <th></th>\n",
       "      <th>brand</th>\n",
       "      <th>product</th>\n",
       "      <th>link</th>\n",
       "      <th>price</th>\n",
       "      <th>score</th>\n",
       "    </tr>\n",
       "  </thead>\n",
       "  <tbody>\n",
       "    <tr>\n",
       "      <th>0</th>\n",
       "      <td>HP</td>\n",
       "      <td>ENVY 5020 Wireless All in One Printer</td>\n",
       "      <td>https://www.currys.co.uk/gbuk/computing-access...</td>\n",
       "      <td>£34.00</td>\n",
       "      <td>4.5</td>\n",
       "    </tr>\n",
       "    <tr>\n",
       "      <th>1</th>\n",
       "      <td>CANON</td>\n",
       "      <td>PIXMA MG5750 All-in-One Wireless Inkjet Printer</td>\n",
       "      <td>https://www.currys.co.uk/gbuk/computing-access...</td>\n",
       "      <td>£44.99</td>\n",
       "      <td>4.0</td>\n",
       "    </tr>\n",
       "    <tr>\n",
       "      <th>2</th>\n",
       "      <td>HP</td>\n",
       "      <td>DeskJet 2620 All-in-One Wireless Inkjet Printer</td>\n",
       "      <td>https://www.currys.co.uk/gbuk/computing-access...</td>\n",
       "      <td>£24.99</td>\n",
       "      <td>4.0</td>\n",
       "    </tr>\n",
       "    <tr>\n",
       "      <th>3</th>\n",
       "      <td>HP</td>\n",
       "      <td>Sprocket 200 Mobile Photo Printer - Pearl</td>\n",
       "      <td>https://www.currys.co.uk/gbuk/computing-access...</td>\n",
       "      <td>£69.99</td>\n",
       "      <td>5.0</td>\n",
       "    </tr>\n",
       "    <tr>\n",
       "      <th>4</th>\n",
       "      <td>HP</td>\n",
       "      <td>OfficeJet Pro 7720 All-in-One Wireless A3 Inkj...</td>\n",
       "      <td>https://www.currys.co.uk/gbuk/computing-access...</td>\n",
       "      <td>£79.99</td>\n",
       "      <td>4.5</td>\n",
       "    </tr>\n",
       "    <tr>\n",
       "      <th>5</th>\n",
       "      <td>HP</td>\n",
       "      <td>Envy 5050 All-in-One Wireless Inkjet Printer</td>\n",
       "      <td>https://www.currys.co.uk/gbuk/computing-access...</td>\n",
       "      <td>£99.99</td>\n",
       "      <td>4.0</td>\n",
       "    </tr>\n",
       "    <tr>\n",
       "      <th>6</th>\n",
       "      <td>HP</td>\n",
       "      <td>LaserJet Pro M28W Monochrome All-in-One Wirele...</td>\n",
       "      <td>https://www.currys.co.uk/gbuk/computing-access...</td>\n",
       "      <td>£79.99</td>\n",
       "      <td>4.5</td>\n",
       "    </tr>\n",
       "    <tr>\n",
       "      <th>7</th>\n",
       "      <td>HP</td>\n",
       "      <td>M15W Monochrome Wireless Laser Printer</td>\n",
       "      <td>https://www.currys.co.uk/gbuk/computing-access...</td>\n",
       "      <td>£49.99</td>\n",
       "      <td>4.5</td>\n",
       "    </tr>\n",
       "    <tr>\n",
       "      <th>8</th>\n",
       "      <td>CANON</td>\n",
       "      <td>PIXMA TS5051 All-in-One Wireless Inkjet Printer</td>\n",
       "      <td>https://www.currys.co.uk/gbuk/computing-access...</td>\n",
       "      <td>£49.99</td>\n",
       "      <td>4.5</td>\n",
       "    </tr>\n",
       "    <tr>\n",
       "      <th>9</th>\n",
       "      <td>EPSON</td>\n",
       "      <td>EcoTank ET-2720 All-in-One Wireless Inkjet Pri...</td>\n",
       "      <td>https://www.currys.co.uk/gbuk/computing-access...</td>\n",
       "      <td>£169.99</td>\n",
       "      <td>4.0</td>\n",
       "    </tr>\n",
       "    <tr>\n",
       "      <th>10</th>\n",
       "      <td>CANON</td>\n",
       "      <td>PIXMA TS3150 All-in-One Wireless Inkjet Printer</td>\n",
       "      <td>https://www.currys.co.uk/gbuk/computing-access...</td>\n",
       "      <td>£29.99</td>\n",
       "      <td>3.5</td>\n",
       "    </tr>\n",
       "    <tr>\n",
       "      <th>11</th>\n",
       "      <td>HP</td>\n",
       "      <td>Envy Photo 6234 All-in-One Wireless Inkjet Pri...</td>\n",
       "      <td>https://www.currys.co.uk/gbuk/computing-access...</td>\n",
       "      <td>£69.99</td>\n",
       "      <td>4.5</td>\n",
       "    </tr>\n",
       "    <tr>\n",
       "      <th>12</th>\n",
       "      <td>CANON</td>\n",
       "      <td>PIXMA TS5151 All-in-One Wireless Inkjet Printer</td>\n",
       "      <td>https://www.currys.co.uk/gbuk/computing-access...</td>\n",
       "      <td>£39.99</td>\n",
       "      <td>4.0</td>\n",
       "    </tr>\n",
       "    <tr>\n",
       "      <th>13</th>\n",
       "      <td>HP</td>\n",
       "      <td>LaserJet Pro MFP M281fdw All-in-One Wireless L...</td>\n",
       "      <td>https://www.currys.co.uk/gbuk/computing-access...</td>\n",
       "      <td>£249.99</td>\n",
       "      <td>4.5</td>\n",
       "    </tr>\n",
       "    <tr>\n",
       "      <th>14</th>\n",
       "      <td>BROTHER</td>\n",
       "      <td>MFCJ6530DW All-in-One Wireless A3 Inkjet Print...</td>\n",
       "      <td>https://www.currys.co.uk/gbuk/computing-access...</td>\n",
       "      <td>£149.00</td>\n",
       "      <td>4.5</td>\n",
       "    </tr>\n",
       "    <tr>\n",
       "      <th>15</th>\n",
       "      <td>HP</td>\n",
       "      <td>ENVY 5020 Wireless All-in-One Printer &amp; Paper ...</td>\n",
       "      <td>https://www.currys.co.uk/gbuk/computing-access...</td>\n",
       "      <td>£49.99</td>\n",
       "      <td>4.5</td>\n",
       "    </tr>\n",
       "    <tr>\n",
       "      <th>16</th>\n",
       "      <td>HP</td>\n",
       "      <td>DeskJet 3762 All-in-One Wireless Inkjet Printer</td>\n",
       "      <td>https://www.currys.co.uk/gbuk/computing-access...</td>\n",
       "      <td>£59.99</td>\n",
       "      <td>4.0</td>\n",
       "    </tr>\n",
       "    <tr>\n",
       "      <th>17</th>\n",
       "      <td>CANON</td>\n",
       "      <td>PIXMA TS8351 All-in-One Wireless Inkjet Printer</td>\n",
       "      <td>https://www.currys.co.uk/gbuk/computing-access...</td>\n",
       "      <td>£99.99</td>\n",
       "      <td>4.5</td>\n",
       "    </tr>\n",
       "    <tr>\n",
       "      <th>18</th>\n",
       "      <td>CANON</td>\n",
       "      <td>PIXMA TS5050 All-in-One Wireless Inkjet Printer</td>\n",
       "      <td>https://www.currys.co.uk/gbuk/computing-access...</td>\n",
       "      <td>£59.99</td>\n",
       "      <td>4.0</td>\n",
       "    </tr>\n",
       "    <tr>\n",
       "      <th>19</th>\n",
       "      <td>EPSON</td>\n",
       "      <td>Ecotank ET-2750 All-in-One Wireless Inkjet Pri...</td>\n",
       "      <td>https://www.currys.co.uk/gbuk/computing-access...</td>\n",
       "      <td>£229.99</td>\n",
       "      <td>4.5</td>\n",
       "    </tr>\n",
       "  </tbody>\n",
       "</table>\n",
       "</div>"
      ],
      "text/plain": [
       "      brand                                            product  \\\n",
       "0        HP              ENVY 5020 Wireless All in One Printer   \n",
       "1     CANON    PIXMA MG5750 All-in-One Wireless Inkjet Printer   \n",
       "2        HP    DeskJet 2620 All-in-One Wireless Inkjet Printer   \n",
       "3        HP          Sprocket 200 Mobile Photo Printer - Pearl   \n",
       "4        HP  OfficeJet Pro 7720 All-in-One Wireless A3 Inkj...   \n",
       "5        HP       Envy 5050 All-in-One Wireless Inkjet Printer   \n",
       "6        HP  LaserJet Pro M28W Monochrome All-in-One Wirele...   \n",
       "7        HP             M15W Monochrome Wireless Laser Printer   \n",
       "8     CANON    PIXMA TS5051 All-in-One Wireless Inkjet Printer   \n",
       "9     EPSON  EcoTank ET-2720 All-in-One Wireless Inkjet Pri...   \n",
       "10    CANON    PIXMA TS3150 All-in-One Wireless Inkjet Printer   \n",
       "11       HP  Envy Photo 6234 All-in-One Wireless Inkjet Pri...   \n",
       "12    CANON    PIXMA TS5151 All-in-One Wireless Inkjet Printer   \n",
       "13       HP  LaserJet Pro MFP M281fdw All-in-One Wireless L...   \n",
       "14  BROTHER  MFCJ6530DW All-in-One Wireless A3 Inkjet Print...   \n",
       "15       HP  ENVY 5020 Wireless All-in-One Printer & Paper ...   \n",
       "16       HP    DeskJet 3762 All-in-One Wireless Inkjet Printer   \n",
       "17    CANON    PIXMA TS8351 All-in-One Wireless Inkjet Printer   \n",
       "18    CANON    PIXMA TS5050 All-in-One Wireless Inkjet Printer   \n",
       "19    EPSON  Ecotank ET-2750 All-in-One Wireless Inkjet Pri...   \n",
       "\n",
       "                                                 link    price  score  \n",
       "0   https://www.currys.co.uk/gbuk/computing-access...   £34.00    4.5  \n",
       "1   https://www.currys.co.uk/gbuk/computing-access...   £44.99    4.0  \n",
       "2   https://www.currys.co.uk/gbuk/computing-access...   £24.99    4.0  \n",
       "3   https://www.currys.co.uk/gbuk/computing-access...   £69.99    5.0  \n",
       "4   https://www.currys.co.uk/gbuk/computing-access...   £79.99    4.5  \n",
       "5   https://www.currys.co.uk/gbuk/computing-access...   £99.99    4.0  \n",
       "6   https://www.currys.co.uk/gbuk/computing-access...   £79.99    4.5  \n",
       "7   https://www.currys.co.uk/gbuk/computing-access...   £49.99    4.5  \n",
       "8   https://www.currys.co.uk/gbuk/computing-access...   £49.99    4.5  \n",
       "9   https://www.currys.co.uk/gbuk/computing-access...  £169.99    4.0  \n",
       "10  https://www.currys.co.uk/gbuk/computing-access...   £29.99    3.5  \n",
       "11  https://www.currys.co.uk/gbuk/computing-access...   £69.99    4.5  \n",
       "12  https://www.currys.co.uk/gbuk/computing-access...   £39.99    4.0  \n",
       "13  https://www.currys.co.uk/gbuk/computing-access...  £249.99    4.5  \n",
       "14  https://www.currys.co.uk/gbuk/computing-access...  £149.00    4.5  \n",
       "15  https://www.currys.co.uk/gbuk/computing-access...   £49.99    4.5  \n",
       "16  https://www.currys.co.uk/gbuk/computing-access...   £59.99    4.0  \n",
       "17  https://www.currys.co.uk/gbuk/computing-access...   £99.99    4.5  \n",
       "18  https://www.currys.co.uk/gbuk/computing-access...   £59.99    4.0  \n",
       "19  https://www.currys.co.uk/gbuk/computing-access...  £229.99    4.5  "
      ]
     },
     "execution_count": 19,
     "metadata": {},
     "output_type": "execute_result"
    }
   ],
   "source": [
    "df"
   ]
  },
  {
   "cell_type": "code",
   "execution_count": 20,
   "metadata": {
    "ExecuteTime": {
     "end_time": "2019-11-27T14:50:04.006015Z",
     "start_time": "2019-11-27T14:49:58.838808Z"
    }
   },
   "outputs": [],
   "source": [
    "# Demo purposes\n",
    "sleep(5)\n",
    "# Close the browser\n",
    "browser.close()"
   ]
  }
 ],
 "metadata": {
  "kernelspec": {
   "display_name": "Python 3",
   "language": "python",
   "name": "python3"
  },
  "language_info": {
   "codemirror_mode": {
    "name": "ipython",
    "version": 3
   },
   "file_extension": ".py",
   "mimetype": "text/x-python",
   "name": "python",
   "nbconvert_exporter": "python",
   "pygments_lexer": "ipython3",
   "version": "3.6.7"
  },
  "toc": {
   "base_numbering": 1,
   "nav_menu": {},
   "number_sections": true,
   "sideBar": true,
   "skip_h1_title": false,
   "title_cell": "Table of Contents",
   "title_sidebar": "Contents",
   "toc_cell": false,
   "toc_position": {},
   "toc_section_display": true,
   "toc_window_display": false
  },
  "varInspector": {
   "cols": {
    "lenName": 16,
    "lenType": 16,
    "lenVar": 40
   },
   "kernels_config": {
    "python": {
     "delete_cmd_postfix": "",
     "delete_cmd_prefix": "del ",
     "library": "var_list.py",
     "varRefreshCmd": "print(var_dic_list())"
    },
    "r": {
     "delete_cmd_postfix": ") ",
     "delete_cmd_prefix": "rm(",
     "library": "var_list.r",
     "varRefreshCmd": "cat(var_dic_list()) "
    }
   },
   "types_to_exclude": [
    "module",
    "function",
    "builtin_function_or_method",
    "instance",
    "_Feature"
   ],
   "window_display": false
  }
 },
 "nbformat": 4,
 "nbformat_minor": 2
}
