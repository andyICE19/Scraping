{
 "cells": [
  {
   "cell_type": "code",
   "execution_count": 1,
   "metadata": {
    "ExecuteTime": {
     "end_time": "2019-11-27T21:55:15.491949Z",
     "start_time": "2019-11-27T21:55:14.945360Z"
    }
   },
   "outputs": [],
   "source": [
    "from selenium import webdriver\n",
    "from selenium.webdriver.support.ui import Select\n",
    "from selenium.webdriver.common.keys import Keys\n",
    "from time import sleep\n",
    "import numpy as np\n",
    "import pandas as pd\n",
    "import os\n",
    "from selenium.common.exceptions import NoSuchElementException"
   ]
  },
  {
   "cell_type": "markdown",
   "metadata": {},
   "source": [
    "# Load Selenium Chrome Webdriver"
   ]
  },
  {
   "cell_type": "code",
   "execution_count": 2,
   "metadata": {
    "ExecuteTime": {
     "end_time": "2019-11-27T21:55:17.306523Z",
     "start_time": "2019-11-27T21:55:15.494143Z"
    }
   },
   "outputs": [],
   "source": [
    "browser = webdriver.Chrome(executable_path=os.getcwd() + \"/chromedriver\")"
   ]
  },
  {
   "cell_type": "code",
   "execution_count": 3,
   "metadata": {
    "ExecuteTime": {
     "end_time": "2019-11-27T21:55:17.312733Z",
     "start_time": "2019-11-27T21:55:17.309477Z"
    }
   },
   "outputs": [],
   "source": [
    "URL = \"https://libraryservices.city.ac.uk/\""
   ]
  },
  {
   "cell_type": "code",
   "execution_count": 4,
   "metadata": {
    "ExecuteTime": {
     "end_time": "2019-11-27T21:55:18.679120Z",
     "start_time": "2019-11-27T21:55:17.315748Z"
    }
   },
   "outputs": [],
   "source": [
    "browser.get(URL)"
   ]
  },
  {
   "cell_type": "code",
   "execution_count": 5,
   "metadata": {
    "ExecuteTime": {
     "end_time": "2019-11-27T21:55:24.882785Z",
     "start_time": "2019-11-27T21:55:18.681175Z"
    }
   },
   "outputs": [],
   "source": [
    "# Find out the search box by id\n",
    "search_input = browser.find_element_by_id(\"search-query\")\n",
    "search_input.send_keys(\"network analytics\")\n",
    "# wait for 0.5, demonstration purposes\n",
    "sleep(0.5)\n",
    "\n",
    "# Find out the search button by xpath\n",
    "search_btn = browser.find_element_by_xpath('//*[@id=\"library\"]/div[2]/div/div/div/section/form/div[1]/div[3]/button')\n",
    "search_btn.click()\n",
    "# wait for 0.5, demonstration purposes\n",
    "sleep(0.5)"
   ]
  },
  {
   "cell_type": "markdown",
   "metadata": {},
   "source": [
    "# Collect Product information"
   ]
  },
  {
   "cell_type": "code",
   "execution_count": 6,
   "metadata": {
    "ExecuteTime": {
     "end_time": "2019-11-27T21:55:24.920866Z",
     "start_time": "2019-11-27T21:55:24.886125Z"
    }
   },
   "outputs": [
    {
     "data": {
      "text/plain": [
       "10"
      ]
     },
     "execution_count": 6,
     "metadata": {},
     "output_type": "execute_result"
    }
   ],
   "source": [
    "# Find the block that contains all books\n",
    "book_block = browser.find_element_by_xpath('//*[@id=\"results\"]/div[3]/ul')\n",
    "\n",
    "# Find all book blocks under this block\n",
    "all_book_blocks = book_block.find_elements_by_class_name(\"summary\")\n",
    "len(all_book_blocks)\n"
   ]
  },
  {
   "cell_type": "code",
   "execution_count": 7,
   "metadata": {
    "ExecuteTime": {
     "end_time": "2019-11-27T21:55:25.741948Z",
     "start_time": "2019-11-27T21:55:24.922630Z"
    }
   },
   "outputs": [],
   "source": [
    "book_list = []\n",
    "\n",
    "for b in all_book_blocks:\n",
    "    \n",
    "    # Get the title of the book\n",
    "    title_tag = b.find_element_by_tag_name(\"a\")\n",
    "    title = title_tag.text\n",
    "    \n",
    "    authors_tag = b.find_elements_by_class_name(\"customPrimaryLink.ng-binding\")\n",
    "    \n",
    "    # We only add the first 2 authors here\n",
    "    if len(authors_tag) < 2:\n",
    "        authors = authors_tag[0].text\n",
    "        \n",
    "    else:\n",
    "        authors = authors_tag[0].text + \"; \" + authors_tag[1].text\n",
    "        \n",
    "    # Either the issue date or the journal    \n",
    "    time_issues = b.find_element_by_class_name(\"shortSummary.ng-binding.ng-scope\")\n",
    "    issues = time_issues.text\n",
    "    \n",
    "    # Retrieve summary\n",
    "    try:\n",
    "        summary_tag = b.find_element_by_class_name(\"snippet.bottom-margin.hidden-xs.ng-binding.ng-scope\")\n",
    "        summary = summary_tag.text\n",
    "    \n",
    "    \n",
    "    except NoSuchElementException: \n",
    "        \n",
    "        summary = \"\"\n",
    "    \n",
    "    book_list.append([title, authors, issues, summary])\n",
    "    "
   ]
  },
  {
   "cell_type": "markdown",
   "metadata": {},
   "source": [
    "# Create a dataframe to store data"
   ]
  },
  {
   "cell_type": "code",
   "execution_count": 8,
   "metadata": {
    "ExecuteTime": {
     "end_time": "2019-11-27T21:55:25.749021Z",
     "start_time": "2019-11-27T21:55:25.743712Z"
    }
   },
   "outputs": [],
   "source": [
    "column_name = [\"title\", \"author\", \"release\", \"summary\"]\n",
    "\n",
    "df = pd.DataFrame(book_list, columns=column_name)"
   ]
  },
  {
   "cell_type": "code",
   "execution_count": 9,
   "metadata": {
    "ExecuteTime": {
     "end_time": "2019-11-27T21:55:25.770261Z",
     "start_time": "2019-11-27T21:55:25.750493Z"
    }
   },
   "outputs": [
    {
     "data": {
      "text/html": [
       "<div>\n",
       "<style scoped>\n",
       "    .dataframe tbody tr th:only-of-type {\n",
       "        vertical-align: middle;\n",
       "    }\n",
       "\n",
       "    .dataframe tbody tr th {\n",
       "        vertical-align: top;\n",
       "    }\n",
       "\n",
       "    .dataframe thead th {\n",
       "        text-align: right;\n",
       "    }\n",
       "</style>\n",
       "<table border=\"1\" class=\"dataframe\">\n",
       "  <thead>\n",
       "    <tr style=\"text-align: right;\">\n",
       "      <th></th>\n",
       "      <th>title</th>\n",
       "      <th>author</th>\n",
       "      <th>release</th>\n",
       "      <th>summary</th>\n",
       "    </tr>\n",
       "  </thead>\n",
       "  <tbody>\n",
       "    <tr>\n",
       "      <th>0</th>\n",
       "      <td>Social network analytics: computational resear...</td>\n",
       "      <td>Dey, Nilanjan, 1984; Borah, Samarjeet</td>\n",
       "      <td>2019</td>\n",
       "      <td>Social Network Analytics: Computational Resear...</td>\n",
       "    </tr>\n",
       "    <tr>\n",
       "      <th>1</th>\n",
       "      <td>Provenance Network Analytics</td>\n",
       "      <td>Huynh, Trung Dong; Ebden, Mark</td>\n",
       "      <td>Data Mining and Knowledge Discovery, 05/2018, ...</td>\n",
       "      <td>.../10.1007/s10618-017-0549-3 Provenance netwo...</td>\n",
       "    </tr>\n",
       "    <tr>\n",
       "      <th>2</th>\n",
       "      <td>Decision Making with the Analytic Network Proc...</td>\n",
       "      <td>Saaty, Thomas L; Vargas, Luis G</td>\n",
       "      <td>2013</td>\n",
       "      <td>The Analytic Network Process (ANP), developed ...</td>\n",
       "    </tr>\n",
       "    <tr>\n",
       "      <th>3</th>\n",
       "      <td>Generalized analytic network process</td>\n",
       "      <td>Zhu, Bin; Xu, Zeshui</td>\n",
       "      <td>European Journal of Operational Research, 07/2...</td>\n",
       "      <td>The analytic network process (ANP) is a method...</td>\n",
       "    </tr>\n",
       "    <tr>\n",
       "      <th>4</th>\n",
       "      <td>Intuitionistic Fuzzy Analytic Network Process</td>\n",
       "      <td>Liao, Huchang; Mi, Xiaomei</td>\n",
       "      <td>IEEE Transactions on Fuzzy Systems, 10/2018, V...</td>\n",
       "      <td>Since the analytic network process (ANP) is mu...</td>\n",
       "    </tr>\n",
       "    <tr>\n",
       "      <th>5</th>\n",
       "      <td>Analytical network and system administration: ...</td>\n",
       "      <td>Burgess, Mark, 1966</td>\n",
       "      <td>2004</td>\n",
       "      <td></td>\n",
       "    </tr>\n",
       "    <tr>\n",
       "      <th>6</th>\n",
       "      <td>Provenance Network Analytics: An approach to d...</td>\n",
       "      <td>Huynh, Trung Dong; Ebden, Mark</td>\n",
       "      <td>Data Mining and Knowledge Discovery, 05/2018, ...</td>\n",
       "      <td>Provenance network analytics is a novel data a...</td>\n",
       "    </tr>\n",
       "    <tr>\n",
       "      <th>7</th>\n",
       "      <td>Adverse outcome pathway networks II: Network a...</td>\n",
       "      <td>Villeneuve, Daniel L; Angrish, Michelle M</td>\n",
       "      <td>Environmental Toxicology and Chemistry, 06/201...</td>\n",
       "      <td>... (AOPs). Consequently, the AOP framework wa...</td>\n",
       "    </tr>\n",
       "    <tr>\n",
       "      <th>8</th>\n",
       "      <td>Adverse outcome pathway networks II: Network a...</td>\n",
       "      <td>Villeneuve, Daniel L; Angrish, Michelle M</td>\n",
       "      <td>Environmental Toxicology and Chemistry, 06/201...</td>\n",
       "      <td></td>\n",
       "    </tr>\n",
       "    <tr>\n",
       "      <th>9</th>\n",
       "      <td>Analytic network process in risk assessment an...</td>\n",
       "      <td>Ergu, Daji; Kou, Gang</td>\n",
       "      <td>Computers and Operations Research, 02/2014, Vo...</td>\n",
       "      <td>In risk assessment and decision analysis, the ...</td>\n",
       "    </tr>\n",
       "  </tbody>\n",
       "</table>\n",
       "</div>"
      ],
      "text/plain": [
       "                                               title  \\\n",
       "0  Social network analytics: computational resear...   \n",
       "1                       Provenance Network Analytics   \n",
       "2  Decision Making with the Analytic Network Proc...   \n",
       "3               Generalized analytic network process   \n",
       "4      Intuitionistic Fuzzy Analytic Network Process   \n",
       "5  Analytical network and system administration: ...   \n",
       "6  Provenance Network Analytics: An approach to d...   \n",
       "7  Adverse outcome pathway networks II: Network a...   \n",
       "8  Adverse outcome pathway networks II: Network a...   \n",
       "9  Analytic network process in risk assessment an...   \n",
       "\n",
       "                                      author  \\\n",
       "0      Dey, Nilanjan, 1984; Borah, Samarjeet   \n",
       "1             Huynh, Trung Dong; Ebden, Mark   \n",
       "2            Saaty, Thomas L; Vargas, Luis G   \n",
       "3                       Zhu, Bin; Xu, Zeshui   \n",
       "4                 Liao, Huchang; Mi, Xiaomei   \n",
       "5                        Burgess, Mark, 1966   \n",
       "6             Huynh, Trung Dong; Ebden, Mark   \n",
       "7  Villeneuve, Daniel L; Angrish, Michelle M   \n",
       "8  Villeneuve, Daniel L; Angrish, Michelle M   \n",
       "9                      Ergu, Daji; Kou, Gang   \n",
       "\n",
       "                                             release  \\\n",
       "0                                               2019   \n",
       "1  Data Mining and Knowledge Discovery, 05/2018, ...   \n",
       "2                                               2013   \n",
       "3  European Journal of Operational Research, 07/2...   \n",
       "4  IEEE Transactions on Fuzzy Systems, 10/2018, V...   \n",
       "5                                               2004   \n",
       "6  Data Mining and Knowledge Discovery, 05/2018, ...   \n",
       "7  Environmental Toxicology and Chemistry, 06/201...   \n",
       "8  Environmental Toxicology and Chemistry, 06/201...   \n",
       "9  Computers and Operations Research, 02/2014, Vo...   \n",
       "\n",
       "                                             summary  \n",
       "0  Social Network Analytics: Computational Resear...  \n",
       "1  .../10.1007/s10618-017-0549-3 Provenance netwo...  \n",
       "2  The Analytic Network Process (ANP), developed ...  \n",
       "3  The analytic network process (ANP) is a method...  \n",
       "4  Since the analytic network process (ANP) is mu...  \n",
       "5                                                     \n",
       "6  Provenance network analytics is a novel data a...  \n",
       "7  ... (AOPs). Consequently, the AOP framework wa...  \n",
       "8                                                     \n",
       "9  In risk assessment and decision analysis, the ...  "
      ]
     },
     "execution_count": 9,
     "metadata": {},
     "output_type": "execute_result"
    }
   ],
   "source": [
    "df"
   ]
  },
  {
   "cell_type": "code",
   "execution_count": 10,
   "metadata": {
    "ExecuteTime": {
     "end_time": "2019-11-27T21:55:30.899133Z",
     "start_time": "2019-11-27T21:55:25.771905Z"
    }
   },
   "outputs": [],
   "source": [
    "# Demo purposes\n",
    "sleep(5)\n",
    "# Close the browser\n",
    "browser.close()"
   ]
  }
 ],
 "metadata": {
  "kernelspec": {
   "display_name": "Python 3",
   "language": "python",
   "name": "python3"
  },
  "language_info": {
   "codemirror_mode": {
    "name": "ipython",
    "version": 3
   },
   "file_extension": ".py",
   "mimetype": "text/x-python",
   "name": "python",
   "nbconvert_exporter": "python",
   "pygments_lexer": "ipython3",
   "version": "3.6.7"
  },
  "toc": {
   "base_numbering": 1,
   "nav_menu": {},
   "number_sections": true,
   "sideBar": true,
   "skip_h1_title": false,
   "title_cell": "Table of Contents",
   "title_sidebar": "Contents",
   "toc_cell": false,
   "toc_position": {},
   "toc_section_display": true,
   "toc_window_display": false
  },
  "varInspector": {
   "cols": {
    "lenName": 16,
    "lenType": 16,
    "lenVar": 40
   },
   "kernels_config": {
    "python": {
     "delete_cmd_postfix": "",
     "delete_cmd_prefix": "del ",
     "library": "var_list.py",
     "varRefreshCmd": "print(var_dic_list())"
    },
    "r": {
     "delete_cmd_postfix": ") ",
     "delete_cmd_prefix": "rm(",
     "library": "var_list.r",
     "varRefreshCmd": "cat(var_dic_list()) "
    }
   },
   "types_to_exclude": [
    "module",
    "function",
    "builtin_function_or_method",
    "instance",
    "_Feature"
   ],
   "window_display": false
  }
 },
 "nbformat": 4,
 "nbformat_minor": 2
}
