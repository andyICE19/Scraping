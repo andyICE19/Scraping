{
 "cells": [
  {
   "cell_type": "code",
   "execution_count": 37,
   "metadata": {
    "ExecuteTime": {
     "end_time": "2019-11-27T14:08:35.251142Z",
     "start_time": "2019-11-27T14:08:35.247216Z"
    }
   },
   "outputs": [],
   "source": [
    "from selenium import webdriver\n",
    "from selenium.webdriver.support.ui import Select\n",
    "from selenium.webdriver.common.keys import Keys\n",
    "from time import sleep\n",
    "import numpy as np\n",
    "import pandas as pd\n",
    "import os\n",
    "from selenium.common.exceptions import NoSuchElementException"
   ]
  },
  {
   "cell_type": "markdown",
   "metadata": {},
   "source": [
    "# Load Selenium Chrome Webdriver"
   ]
  },
  {
   "cell_type": "code",
   "execution_count": 38,
   "metadata": {
    "ExecuteTime": {
     "end_time": "2019-11-27T14:08:37.319752Z",
     "start_time": "2019-11-27T14:08:35.253681Z"
    }
   },
   "outputs": [],
   "source": [
    "browser = webdriver.Chrome(executable_path=os.getcwd() + \"/chromedriver\")"
   ]
  },
  {
   "cell_type": "code",
   "execution_count": 39,
   "metadata": {
    "ExecuteTime": {
     "end_time": "2019-11-27T14:08:37.328087Z",
     "start_time": "2019-11-27T14:08:37.323427Z"
    }
   },
   "outputs": [],
   "source": [
    "URL = \"https://www.currys.co.uk/\""
   ]
  },
  {
   "cell_type": "code",
   "execution_count": 40,
   "metadata": {
    "ExecuteTime": {
     "end_time": "2019-11-27T14:08:39.717854Z",
     "start_time": "2019-11-27T14:08:37.331461Z"
    }
   },
   "outputs": [],
   "source": [
    "browser.get(URL)"
   ]
  },
  {
   "cell_type": "code",
   "execution_count": 41,
   "metadata": {
    "ExecuteTime": {
     "end_time": "2019-11-27T14:08:43.245058Z",
     "start_time": "2019-11-27T14:08:39.721436Z"
    }
   },
   "outputs": [],
   "source": [
    "# Find out the search box by id\n",
    "search_input = browser.find_element_by_id(\"search\")\n",
    "search_input.send_keys(\"Apple\")\n",
    "# wait for 0.5, demonstration purposes\n",
    "sleep(0.5)\n",
    "\n",
    "# Find out the search button by xpath\n",
    "search_btn = browser.find_element_by_xpath('//*[@id=\"searchForm\"]/fieldset/div[2]/div/button')\n",
    "search_btn.click()\n",
    "# wait for 0.5, demonstration purposes\n",
    "sleep(0.5)"
   ]
  },
  {
   "cell_type": "markdown",
   "metadata": {},
   "source": [
    "# Collect Product information"
   ]
  },
  {
   "cell_type": "code",
   "execution_count": 42,
   "metadata": {
    "ExecuteTime": {
     "end_time": "2019-11-27T14:08:43.282294Z",
     "start_time": "2019-11-27T14:08:43.248845Z"
    }
   },
   "outputs": [
    {
     "data": {
      "text/plain": [
       "17"
      ]
     },
     "execution_count": 42,
     "metadata": {},
     "output_type": "execute_result"
    }
   ],
   "source": [
    "# Find the block that contains all products\n",
    "product_block = browser.find_element_by_class_name(\"col12.resultList\")\n",
    "\n",
    "# Find all product blocks under this product block\n",
    "all_product_blocks = product_block.find_elements_by_tag_name('article')\n",
    "len(all_product_blocks)\n"
   ]
  },
  {
   "cell_type": "code",
   "execution_count": 43,
   "metadata": {
    "ExecuteTime": {
     "end_time": "2019-11-27T14:08:44.755150Z",
     "start_time": "2019-11-27T14:08:43.284254Z"
    }
   },
   "outputs": [],
   "source": [
    "product_list = []\n",
    "\n",
    "for p in all_product_blocks:\n",
    "    \n",
    "    # find the header\n",
    "    h = p.find_element_by_tag_name(\"header\")\n",
    "    # find the a tag\n",
    "    a = h.find_element_by_tag_name(\"a\")\n",
    "    # Find the link\n",
    "    link = a.get_attribute(\"href\")\n",
    "    \n",
    "    spans = a.find_elements_by_tag_name(\"span\")\n",
    "    \n",
    "    # Get brand and product name\n",
    "    brand_name = spans[0].text\n",
    "    product_name = spans[1].text\n",
    "    \n",
    "    # Get Price\n",
    "    price = p.find_element_by_class_name(\"price\").text\n",
    "#     print(price)\n",
    "    \n",
    "    # Get ratings\n",
    "    try:\n",
    "        rating_element = p.find_element_by_class_name(\"reevoo-score\").get_attribute(\"class\")\n",
    "        score = float(rating_element.split('-')[-1]) / 2\n",
    "#         print(score)\n",
    "    \n",
    "    except NoSuchElementException:  #spelling error making this code not work as expected  \n",
    "        score = ''\n",
    "        \n",
    "\n",
    "    product_list.append([brand_name, product_name, link, price, score])\n",
    "\n",
    "\n",
    "    "
   ]
  },
  {
   "cell_type": "markdown",
   "metadata": {},
   "source": [
    "# Create a dataframe to store data"
   ]
  },
  {
   "cell_type": "code",
   "execution_count": 44,
   "metadata": {
    "ExecuteTime": {
     "end_time": "2019-11-27T14:08:44.765117Z",
     "start_time": "2019-11-27T14:08:44.757079Z"
    }
   },
   "outputs": [],
   "source": [
    "column_name = [\"brand\", \"product\", \"price\", \"link\", \"score\"]\n",
    "\n",
    "df = pd.DataFrame(product_list, columns=column_name)"
   ]
  },
  {
   "cell_type": "code",
   "execution_count": 45,
   "metadata": {
    "ExecuteTime": {
     "end_time": "2019-11-27T14:08:44.781806Z",
     "start_time": "2019-11-27T14:08:44.767669Z"
    }
   },
   "outputs": [
    {
     "data": {
      "text/html": [
       "<div>\n",
       "<style scoped>\n",
       "    .dataframe tbody tr th:only-of-type {\n",
       "        vertical-align: middle;\n",
       "    }\n",
       "\n",
       "    .dataframe tbody tr th {\n",
       "        vertical-align: top;\n",
       "    }\n",
       "\n",
       "    .dataframe thead th {\n",
       "        text-align: right;\n",
       "    }\n",
       "</style>\n",
       "<table border=\"1\" class=\"dataframe\">\n",
       "  <thead>\n",
       "    <tr style=\"text-align: right;\">\n",
       "      <th></th>\n",
       "      <th>brand</th>\n",
       "      <th>product</th>\n",
       "      <th>price</th>\n",
       "      <th>link</th>\n",
       "      <th>score</th>\n",
       "    </tr>\n",
       "  </thead>\n",
       "  <tbody>\n",
       "    <tr>\n",
       "      <th>0</th>\n",
       "      <td>APPLE</td>\n",
       "      <td>10.2\" iPad (2019) - 32 GB, Gold</td>\n",
       "      <td>https://www.currys.co.uk/gbuk/computing/tablet...</td>\n",
       "      <td>£299.00</td>\n",
       "      <td>5</td>\n",
       "    </tr>\n",
       "    <tr>\n",
       "      <th>1</th>\n",
       "      <td>APPLE</td>\n",
       "      <td>10.2\" iPad (2019) - 32 GB, Space Grey</td>\n",
       "      <td>https://www.currys.co.uk/gbuk/computing/tablet...</td>\n",
       "      <td>£299.00</td>\n",
       "      <td>5</td>\n",
       "    </tr>\n",
       "    <tr>\n",
       "      <th>2</th>\n",
       "      <td>APPLE</td>\n",
       "      <td>10.5\" iPad Pro (2017) - 256 GB, Space Grey</td>\n",
       "      <td>https://www.currys.co.uk/gbuk/computing/tablet...</td>\n",
       "      <td>£449.00</td>\n",
       "      <td>5</td>\n",
       "    </tr>\n",
       "    <tr>\n",
       "      <th>3</th>\n",
       "      <td>APPLE</td>\n",
       "      <td>10.2\" iPad (2019) - 32 GB, Silver</td>\n",
       "      <td>https://www.currys.co.uk/gbuk/computing/tablet...</td>\n",
       "      <td>£299.00</td>\n",
       "      <td>4.5</td>\n",
       "    </tr>\n",
       "    <tr>\n",
       "      <th>4</th>\n",
       "      <td>APPLE</td>\n",
       "      <td>AirPods with Charging Case (2nd generation) - ...</td>\n",
       "      <td>https://www.currys.co.uk/gbuk/audio-and-headph...</td>\n",
       "      <td>£159.00</td>\n",
       "      <td>4.5</td>\n",
       "    </tr>\n",
       "    <tr>\n",
       "      <th>5</th>\n",
       "      <td>APPLE</td>\n",
       "      <td>10.2\" iPad (2019) - 128 GB, Space Grey</td>\n",
       "      <td>https://www.currys.co.uk/gbuk/computing/tablet...</td>\n",
       "      <td>£409.00</td>\n",
       "      <td>4.5</td>\n",
       "    </tr>\n",
       "    <tr>\n",
       "      <th>6</th>\n",
       "      <td>APPLE</td>\n",
       "      <td>10.2\" iPad (2019) - 128 GB, Gold</td>\n",
       "      <td>https://www.currys.co.uk/gbuk/computing/tablet...</td>\n",
       "      <td>£409.00</td>\n",
       "      <td>5</td>\n",
       "    </tr>\n",
       "    <tr>\n",
       "      <th>7</th>\n",
       "      <td>APPLE</td>\n",
       "      <td>9.7\" iPad (2018) - 32 GB, Space Grey</td>\n",
       "      <td>https://www.currys.co.uk/gbuk/computing/tablet...</td>\n",
       "      <td>£289.00</td>\n",
       "      <td>5</td>\n",
       "    </tr>\n",
       "    <tr>\n",
       "      <th>8</th>\n",
       "      <td>APPLE</td>\n",
       "      <td>10.5\" iPad Pro (2017) - 256 GB, Rose Gold</td>\n",
       "      <td>https://www.currys.co.uk/gbuk/computing/tablet...</td>\n",
       "      <td>£449.00</td>\n",
       "      <td>5</td>\n",
       "    </tr>\n",
       "    <tr>\n",
       "      <th>9</th>\n",
       "      <td>APPLE</td>\n",
       "      <td>10.2\" iPad (2019) - 128 GB, Silver</td>\n",
       "      <td>https://www.currys.co.uk/gbuk/computing/tablet...</td>\n",
       "      <td>£409.00</td>\n",
       "      <td>4.5</td>\n",
       "    </tr>\n",
       "    <tr>\n",
       "      <th>10</th>\n",
       "      <td>APPLE</td>\n",
       "      <td>AirPods Wireless Charging Case</td>\n",
       "      <td>https://www.currys.co.uk/gbuk/audio-and-headph...</td>\n",
       "      <td>£79.00</td>\n",
       "      <td>5</td>\n",
       "    </tr>\n",
       "    <tr>\n",
       "      <th>11</th>\n",
       "      <td>APPLE</td>\n",
       "      <td>10.5\" iPad Pro (2017) - 512 GB, Space Grey</td>\n",
       "      <td>https://www.currys.co.uk/gbuk/computing/tablet...</td>\n",
       "      <td>£499.00</td>\n",
       "      <td>5</td>\n",
       "    </tr>\n",
       "    <tr>\n",
       "      <th>12</th>\n",
       "      <td>APPLE</td>\n",
       "      <td>AirPods Pro - White</td>\n",
       "      <td>https://www.currys.co.uk/gbuk/audio-and-headph...</td>\n",
       "      <td>£249.00</td>\n",
       "      <td></td>\n",
       "    </tr>\n",
       "    <tr>\n",
       "      <th>13</th>\n",
       "      <td>APPLE</td>\n",
       "      <td>Pencil - White</td>\n",
       "      <td>https://www.currys.co.uk/gbuk/computing-access...</td>\n",
       "      <td>£89.00</td>\n",
       "      <td>4.5</td>\n",
       "    </tr>\n",
       "    <tr>\n",
       "      <th>14</th>\n",
       "      <td>APPLE</td>\n",
       "      <td>MD827ZM/A EarPods - White</td>\n",
       "      <td>https://www.currys.co.uk/gbuk/audio-and-headph...</td>\n",
       "      <td>£29.00</td>\n",
       "      <td>4</td>\n",
       "    </tr>\n",
       "    <tr>\n",
       "      <th>15</th>\n",
       "      <td>APPLE</td>\n",
       "      <td>10.2\" iPad Cellular (2019) - 32 GB, Silver</td>\n",
       "      <td>https://www.currys.co.uk/gbuk/computing/tablet...</td>\n",
       "      <td>£449.00</td>\n",
       "      <td></td>\n",
       "    </tr>\n",
       "    <tr>\n",
       "      <th>16</th>\n",
       "      <td>APPLE</td>\n",
       "      <td>10.2\" iPad Cellular (2019) - 128 GB, Gold</td>\n",
       "      <td>https://www.currys.co.uk/gbuk/computing/tablet...</td>\n",
       "      <td>£549.00</td>\n",
       "      <td></td>\n",
       "    </tr>\n",
       "  </tbody>\n",
       "</table>\n",
       "</div>"
      ],
      "text/plain": [
       "    brand                                            product  \\\n",
       "0   APPLE                    10.2\" iPad (2019) - 32 GB, Gold   \n",
       "1   APPLE              10.2\" iPad (2019) - 32 GB, Space Grey   \n",
       "2   APPLE         10.5\" iPad Pro (2017) - 256 GB, Space Grey   \n",
       "3   APPLE                  10.2\" iPad (2019) - 32 GB, Silver   \n",
       "4   APPLE  AirPods with Charging Case (2nd generation) - ...   \n",
       "5   APPLE             10.2\" iPad (2019) - 128 GB, Space Grey   \n",
       "6   APPLE                   10.2\" iPad (2019) - 128 GB, Gold   \n",
       "7   APPLE               9.7\" iPad (2018) - 32 GB, Space Grey   \n",
       "8   APPLE          10.5\" iPad Pro (2017) - 256 GB, Rose Gold   \n",
       "9   APPLE                 10.2\" iPad (2019) - 128 GB, Silver   \n",
       "10  APPLE                     AirPods Wireless Charging Case   \n",
       "11  APPLE         10.5\" iPad Pro (2017) - 512 GB, Space Grey   \n",
       "12  APPLE                                AirPods Pro - White   \n",
       "13  APPLE                                     Pencil - White   \n",
       "14  APPLE                          MD827ZM/A EarPods - White   \n",
       "15  APPLE         10.2\" iPad Cellular (2019) - 32 GB, Silver   \n",
       "16  APPLE          10.2\" iPad Cellular (2019) - 128 GB, Gold   \n",
       "\n",
       "                                                price     link score  \n",
       "0   https://www.currys.co.uk/gbuk/computing/tablet...  £299.00     5  \n",
       "1   https://www.currys.co.uk/gbuk/computing/tablet...  £299.00     5  \n",
       "2   https://www.currys.co.uk/gbuk/computing/tablet...  £449.00     5  \n",
       "3   https://www.currys.co.uk/gbuk/computing/tablet...  £299.00   4.5  \n",
       "4   https://www.currys.co.uk/gbuk/audio-and-headph...  £159.00   4.5  \n",
       "5   https://www.currys.co.uk/gbuk/computing/tablet...  £409.00   4.5  \n",
       "6   https://www.currys.co.uk/gbuk/computing/tablet...  £409.00     5  \n",
       "7   https://www.currys.co.uk/gbuk/computing/tablet...  £289.00     5  \n",
       "8   https://www.currys.co.uk/gbuk/computing/tablet...  £449.00     5  \n",
       "9   https://www.currys.co.uk/gbuk/computing/tablet...  £409.00   4.5  \n",
       "10  https://www.currys.co.uk/gbuk/audio-and-headph...   £79.00     5  \n",
       "11  https://www.currys.co.uk/gbuk/computing/tablet...  £499.00     5  \n",
       "12  https://www.currys.co.uk/gbuk/audio-and-headph...  £249.00        \n",
       "13  https://www.currys.co.uk/gbuk/computing-access...   £89.00   4.5  \n",
       "14  https://www.currys.co.uk/gbuk/audio-and-headph...   £29.00     4  \n",
       "15  https://www.currys.co.uk/gbuk/computing/tablet...  £449.00        \n",
       "16  https://www.currys.co.uk/gbuk/computing/tablet...  £549.00        "
      ]
     },
     "execution_count": 45,
     "metadata": {},
     "output_type": "execute_result"
    }
   ],
   "source": [
    "df"
   ]
  }
 ],
 "metadata": {
  "kernelspec": {
   "display_name": "Python 3",
   "language": "python",
   "name": "python3"
  },
  "language_info": {
   "codemirror_mode": {
    "name": "ipython",
    "version": 3
   },
   "file_extension": ".py",
   "mimetype": "text/x-python",
   "name": "python",
   "nbconvert_exporter": "python",
   "pygments_lexer": "ipython3",
   "version": "3.6.7"
  },
  "toc": {
   "base_numbering": 1,
   "nav_menu": {},
   "number_sections": true,
   "sideBar": true,
   "skip_h1_title": false,
   "title_cell": "Table of Contents",
   "title_sidebar": "Contents",
   "toc_cell": false,
   "toc_position": {},
   "toc_section_display": true,
   "toc_window_display": false
  },
  "varInspector": {
   "cols": {
    "lenName": 16,
    "lenType": 16,
    "lenVar": 40
   },
   "kernels_config": {
    "python": {
     "delete_cmd_postfix": "",
     "delete_cmd_prefix": "del ",
     "library": "var_list.py",
     "varRefreshCmd": "print(var_dic_list())"
    },
    "r": {
     "delete_cmd_postfix": ") ",
     "delete_cmd_prefix": "rm(",
     "library": "var_list.r",
     "varRefreshCmd": "cat(var_dic_list()) "
    }
   },
   "types_to_exclude": [
    "module",
    "function",
    "builtin_function_or_method",
    "instance",
    "_Feature"
   ],
   "window_display": false
  }
 },
 "nbformat": 4,
 "nbformat_minor": 2
}
